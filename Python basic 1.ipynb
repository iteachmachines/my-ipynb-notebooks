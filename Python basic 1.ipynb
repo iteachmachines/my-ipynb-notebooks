{
 "cells": [
  {
   "cell_type": "code",
   "execution_count": 9,
   "metadata": {},
   "outputs": [
    {
     "name": "stdout",
     "output_type": "stream",
     "text": [
      "Return the absolute value of the argument.\n"
     ]
    }
   ],
   "source": [
    "#11. Write a Python program to print the documents (syntax, description etc.) of Python built-in function(s).\n",
    "#Sample function : abs()\n",
    "print(abs.__doc__)"
   ]
  },
  {
   "cell_type": "code",
   "execution_count": 17,
   "metadata": {},
   "outputs": [
    {
     "name": "stdout",
     "output_type": "stream",
     "text": [
      "Enter the year2021\n",
      "Enter the month02\n",
      "   February 2021\n",
      "Mo Tu We Th Fr Sa Su\n",
      " 1  2  3  4  5  6  7\n",
      " 8  9 10 11 12 13 14\n",
      "15 16 17 18 19 20 21\n",
      "22 23 24 25 26 27 28\n",
      "\n"
     ]
    }
   ],
   "source": [
    "#12. Write a Python program to print the calendar of a given month and year.\n",
    "#Note : Use 'calendar' module.\n",
    "import calendar\n",
    "y=int(input(\"Enter the year\"))\n",
    "m=int(input(\"Enter the month\"))\n",
    "print(calendar.month(y,m))"
   ]
  },
  {
   "cell_type": "code",
   "execution_count": 19,
   "metadata": {},
   "outputs": [
    {
     "name": "stdout",
     "output_type": "stream",
     "text": [
      "a string that you \"don't\" have to escape\n",
      "This\n",
      "is a ....... multi-line\n",
      "heredoc string --------> example\n"
     ]
    }
   ],
   "source": [
    "#13.Write a Python program to print the following here document. Go to the editor\n",
    "'''Sample string :\n",
    "a string that you \"don't\" have to escape\n",
    "This\n",
    "is a ....... multi-line\n",
    "heredoc string --------> example'''\n",
    "\n",
    "print('''a string that you \"don't\" have to escape\n",
    "This\n",
    "is a ....... multi-line\n",
    "heredoc string --------> example''')"
   ]
  },
  {
   "cell_type": "code",
   "execution_count": 20,
   "metadata": {},
   "outputs": [
    {
     "name": "stdout",
     "output_type": "stream",
     "text": [
      "372\n"
     ]
    }
   ],
   "source": [
    "#Write a Python program to calculate number of days between two dates.\n",
    "from datetime import date\n",
    "f_date=date(2014,2,4)\n",
    "l_date=date(2015,2,11)\n",
    "res=l_date-f_date\n",
    "print(res.days)  4/3pi*r^3 "
   ]
  },
  {
   "cell_type": "code",
   "execution_count": 22,
   "metadata": {},
   "outputs": [
    {
     "name": "stdout",
     "output_type": "stream",
     "text": [
      "6\n",
      "904.3199999999999\n"
     ]
    }
   ],
   "source": [
    "#15. Write a Python program to get the volume of a sphere with radius 6.\n",
    "radius=int(input())\n",
    "pi=3.14\n",
    "print(4/3*pi*(radius*radius*radius))"
   ]
  },
  {
   "cell_type": "code",
   "execution_count": 26,
   "metadata": {},
   "outputs": [
    {
     "name": "stdout",
     "output_type": "stream",
     "text": [
      "10\n",
      "2\n"
     ]
    }
   ],
   "source": [
    "#16. Write a Python program to get the difference between a given number and 17,\n",
    "# if the number is greater than 17 return double the absolute difference.\n",
    "def difference(n):\n",
    "    if(n<=17):\n",
    "        return 17-n\n",
    "    else:\n",
    "        return (n-17)*2\n",
    "print(difference(22))\n",
    "print(difference(18))"
   ]
  },
  {
   "cell_type": "code",
   "execution_count": 29,
   "metadata": {},
   "outputs": [
    {
     "name": "stdout",
     "output_type": "stream",
     "text": [
      "True\n",
      "True\n",
      "False\n",
      "False\n"
     ]
    }
   ],
   "source": [
    "#17. Write a Python program to test whether a number is within 100 of 1000 or 2000.\n",
    "def near_thousand(n):\n",
    "      return ((abs(1000 - n) <= 100) or (abs(2000 - n) <= 100))\n",
    "print(near_thousand(1000))\n",
    "print(near_thousand(900))\n",
    "print(near_thousand(800))   \n",
    "print(near_thousand(2200))"
   ]
  },
  {
   "cell_type": "code",
   "execution_count": 35,
   "metadata": {},
   "outputs": [
    {
     "name": "stdout",
     "output_type": "stream",
     "text": [
      "60\n",
      "18\n"
     ]
    }
   ],
   "source": [
    "#18Write a Python program to calculate the sum of three given numbers,\n",
    "#if the values are equal then return three times of their sum. \n",
    "def su(a,b,c):\n",
    "    sum=a+b+c\n",
    "    if a==b==c:\n",
    "        sum=sum*3\n",
    "    return sum\n",
    "print(su(10,20,30))\n",
    "print(su(2,2,2))"
   ]
  },
  {
   "cell_type": "code",
   "execution_count": 40,
   "metadata": {},
   "outputs": [
    {
     "name": "stdout",
     "output_type": "stream",
     "text": [
      "Isss\n",
      "Isss\n"
     ]
    }
   ],
   "source": [
    "#19Write a Python program to get a new string from a given string where \"Is\" has been added to the front.\n",
    "#If the given string already begins with \"Is\" then return the string unchanged.\n",
    "s=str(input())\n",
    "if s[0]=='I' and s[1]=='s':\n",
    "    print(s)\n",
    "else:\n",
    "    print(\"Is\"+s)"
   ]
  },
  {
   "cell_type": "code",
   "execution_count": 41,
   "metadata": {},
   "outputs": [
    {
     "data": {
      "text/plain": [
       "'abcabc'"
      ]
     },
     "execution_count": 41,
     "metadata": {},
     "output_type": "execute_result"
    }
   ],
   "source": [
    " #20. Write a Python program to get a string which is n (non-negative integer) copies of a given string.\n",
    "def lstring(str,n):\n",
    "    result=\"\"\n",
    "    for i in range(n):\n",
    "        result=result+str\n",
    "    return result\n",
    "lstring('abc',2)"
   ]
  },
  {
   "cell_type": "code",
   "execution_count": null,
   "metadata": {},
   "outputs": [],
   "source": []
  }
 ],
 "metadata": {
  "kernelspec": {
   "display_name": "Python 3",
   "language": "python",
   "name": "python3"
  },
  "language_info": {
   "codemirror_mode": {
    "name": "ipython",
    "version": 3
   },
   "file_extension": ".py",
   "mimetype": "text/x-python",
   "name": "python",
   "nbconvert_exporter": "python",
   "pygments_lexer": "ipython3",
   "version": "3.8.3"
  }
 },
 "nbformat": 4,
 "nbformat_minor": 4
}
