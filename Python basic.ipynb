{
 "cells": [
  {
   "cell_type": "code",
   "execution_count": 8,
   "metadata": {},
   "outputs": [
    {
     "name": "stdout",
     "output_type": "stream",
     "text": [
      "Python version :  3.8.3 (default, Jul  2 2020, 17:30:36) [MSC v.1916 64 bit (AMD64)]\n"
     ]
    }
   ],
   "source": [
    "#check python version\n",
    "import sys \n",
    "print(\"Python version : \",sys.version)"
   ]
  },
  {
   "cell_type": "code",
   "execution_count": 9,
   "metadata": {},
   "outputs": [
    {
     "name": "stdout",
     "output_type": "stream",
     "text": [
      "2021-02-03 00:44:01.698796\n"
     ]
    }
   ],
   "source": [
    "#print datetime \n",
    "import datetime\n",
    "now=datetime.datetime.now()\n",
    "print(now)"
   ]
  },
  {
   "cell_type": "code",
   "execution_count": 17,
   "metadata": {},
   "outputs": [
    {
     "name": "stdout",
     "output_type": "stream",
     "text": [
      "1.1\n",
      "3.7994000000000008\n"
     ]
    }
   ],
   "source": [
    "#Write a Python program which accepts the radius of a circle from the user and compute the area.\n",
    "pi=3.14\n",
    "r=float(input())\n",
    "result=pi*(r*r)\n",
    "print(result)"
   ]
  },
  {
   "cell_type": "code",
   "execution_count": 18,
   "metadata": {},
   "outputs": [
    {
     "name": "stdout",
     "output_type": "stream",
     "text": [
      "Enter first name :priyam \n",
      "Enter last name :kakati\n",
      "kakati priyam \n"
     ]
    }
   ],
   "source": [
    "#Write a Python program which accepts the user's first\n",
    "#and last name and print them in reverse order with a space between them.\n",
    "first=input(\"Enter first name :\")\n",
    "last=input(\"Enter last name :\")\n",
    "print(last+\" \"+first)"
   ]
  },
  {
   "cell_type": "code",
   "execution_count": 33,
   "metadata": {},
   "outputs": [
    {
     "name": "stdout",
     "output_type": "stream",
     "text": [
      "Red Black\n"
     ]
    }
   ],
   "source": [
    "#Write a Python program to display the first and last colors from the following list.\n",
    "#color_list = [\"Red\",\"Green\",\"White\" ,\"Black\"]\n",
    "color_list=[\"Red\",\"Green\",\"White\",\"Black\"]\n",
    "print(color_list[0]+\" \"+color_list[-1])"
   ]
  },
  {
   "cell_type": "code",
   "execution_count": 35,
   "metadata": {},
   "outputs": [
    {
     "name": "stdout",
     "output_type": "stream",
     "text": [
      "11/12/2014\n"
     ]
    }
   ],
   "source": [
    "#Write a Python program to display the examination schedule. (extract the date from exam_st_date)\n",
    "#exam_st_date = (11, 12, 2014)\n",
    "exam_st_date=(11,12,2014)\n",
    "print(\"%i/%i/%i\"%exam_st_date)\n"
   ]
  },
  {
   "cell_type": "code",
   "execution_count": 40,
   "metadata": {},
   "outputs": [
    {
     "name": "stdout",
     "output_type": "stream",
     "text": [
      "5\n",
      "615\n"
     ]
    }
   ],
   "source": [
    "#Write a Python program that accepts an integer (n) and computes the value of n+nn+nnn.\n",
    "\n",
    "n=int(input())\n",
    "n1=int(\"%s\"%n)\n",
    "n2=int(\"%s%s\"%(n,n))\n",
    "n3=int(\"%s%s%s\"%(n,n,n))\n",
    "print(n1+n2+n3)"
   ]
  },
  {
   "cell_type": "code",
   "execution_count": null,
   "metadata": {},
   "outputs": [],
   "source": []
  }
 ],
 "metadata": {
  "kernelspec": {
   "display_name": "Python 3",
   "language": "python",
   "name": "python3"
  },
  "language_info": {
   "codemirror_mode": {
    "name": "ipython",
    "version": 3
   },
   "file_extension": ".py",
   "mimetype": "text/x-python",
   "name": "python",
   "nbconvert_exporter": "python",
   "pygments_lexer": "ipython3",
   "version": "3.8.3"
  }
 },
 "nbformat": 4,
 "nbformat_minor": 4
}
